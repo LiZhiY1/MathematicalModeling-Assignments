{
 "cells": [
  {
   "cell_type": "code",
   "execution_count": 1,
   "metadata": {},
   "outputs": [
    {
     "name": "stdout",
     "output_type": "stream",
     "text": [
      "原始决策矩阵:\n"
     ]
    },
    {
     "data": {
      "text/markdown": [
       "|       |   $X_1$ |   $X_2$ |   $X_3$ |   $X_4$ |   $X_5$ |   $X_6$ |\n",
       "|:------|--------:|--------:|--------:|--------:|--------:|--------:|\n",
       "| $A_1$ |     2   |     1.5 |      20 |     5.5 |       5 |       9 |\n",
       "| $A_2$ |     2.5 |     2.7 |      18 |     6.5 |       3 |       5 |\n",
       "| $A_3$ |     1.8 |     2   |      21 |     4.5 |       7 |       7 |\n",
       "| $A_4$ |     2.2 |     1.8 |      20 |     5   |       5 |       5 |"
      ],
      "text/plain": [
       "<IPython.core.display.Markdown object>"
      ]
     },
     "metadata": {},
     "output_type": "display_data"
    },
    {
     "data": {
      "text/markdown": [
       "### 步骤1:转化为效益型决策矩阵"
      ],
      "text/plain": [
       "<IPython.core.display.Markdown object>"
      ]
     },
     "metadata": {},
     "output_type": "display_data"
    },
    {
     "data": {
      "text/markdown": [
       "对于成本型属性(如价格$X_4$),需要将其转化为效益型属性。转化公式为:"
      ],
      "text/plain": [
       "<IPython.core.display.Markdown object>"
      ]
     },
     "metadata": {},
     "output_type": "display_data"
    },
    {
     "data": {
      "text/markdown": [
       "$d'_{ij} = \\frac{1}{d_{ij}}, \\quad i=1,2,\\cdots,m$"
      ],
      "text/plain": [
       "<IPython.core.display.Markdown object>"
      ]
     },
     "metadata": {},
     "output_type": "display_data"
    },
    {
     "name": "stdout",
     "output_type": "stream",
     "text": [
      "\n",
      "效益型决策矩阵:\n"
     ]
    },
    {
     "data": {
      "text/markdown": [
       "|       |   $X_1$ |   $X_2$ |   $X_3$ |    $X_4$ |   $X_5$ |   $X_6$ |\n",
       "|:------|--------:|--------:|--------:|---------:|--------:|--------:|\n",
       "| $A_1$ |     2   |     1.5 |      20 | 0.181818 |       5 |       9 |\n",
       "| $A_2$ |     2.5 |     2.7 |      18 | 0.153846 |       3 |       5 |\n",
       "| $A_3$ |     1.8 |     2   |      21 | 0.222222 |       7 |       7 |\n",
       "| $A_4$ |     2.2 |     1.8 |      20 | 0.2      |       5 |       5 |"
      ],
      "text/plain": [
       "<IPython.core.display.Markdown object>"
      ]
     },
     "metadata": {},
     "output_type": "display_data"
    },
    {
     "data": {
      "text/markdown": [
       "### 步骤2:归一化"
      ],
      "text/plain": [
       "<IPython.core.display.Markdown object>"
      ]
     },
     "metadata": {},
     "output_type": "display_data"
    },
    {
     "data": {
      "text/markdown": [
       "归一化处理的公式为:"
      ],
      "text/plain": [
       "<IPython.core.display.Markdown object>"
      ]
     },
     "metadata": {},
     "output_type": "display_data"
    },
    {
     "data": {
      "text/markdown": [
       "$r_{ij} = \\frac{d'_{ij}}{\\sum_{i=1}^{m} d'_{ij}}, \\quad i=1,2,\\cdots,m; \\quad j=1,2,\\cdots,n$"
      ],
      "text/plain": [
       "<IPython.core.display.Markdown object>"
      ]
     },
     "metadata": {},
     "output_type": "display_data"
    },
    {
     "name": "stdout",
     "output_type": "stream",
     "text": [
      "\n",
      "归一化矩阵:\n"
     ]
    },
    {
     "data": {
      "text/markdown": [
       "|       |    $X_1$ |   $X_2$ |    $X_3$ |    $X_4$ |   $X_5$ |    $X_6$ |\n",
       "|:------|---------:|--------:|---------:|---------:|--------:|---------:|\n",
       "| $A_1$ | 0.235294 |  0.1875 | 0.253165 | 0.239902 |    0.25 | 0.346154 |\n",
       "| $A_2$ | 0.294118 |  0.3375 | 0.227848 | 0.202994 |    0.15 | 0.192308 |\n",
       "| $A_3$ | 0.211765 |  0.25   | 0.265823 | 0.293213 |    0.35 | 0.269231 |\n",
       "| $A_4$ | 0.258824 |  0.225  | 0.253165 | 0.263892 |    0.25 | 0.192308 |"
      ],
      "text/plain": [
       "<IPython.core.display.Markdown object>"
      ]
     },
     "metadata": {},
     "output_type": "display_data"
    },
    {
     "data": {
      "text/markdown": [
       "### 步骤3:计算熵值"
      ],
      "text/plain": [
       "<IPython.core.display.Markdown object>"
      ]
     },
     "metadata": {},
     "output_type": "display_data"
    },
    {
     "data": {
      "text/markdown": [
       "$E_j = -\\frac{1}{\\ln m} \\sum_{i=1}^{m} r_{ij} \\ln r_{ij}, \\quad j=1,2,\\cdots,n$"
      ],
      "text/plain": [
       "<IPython.core.display.Markdown object>"
      ]
     },
     "metadata": {},
     "output_type": "display_data"
    },
    {
     "name": "stdout",
     "output_type": "stream",
     "text": [
      "\n",
      "属性的熵值:\n"
     ]
    },
    {
     "data": {
      "text/markdown": [
       "|      |    $X_1$ |    $X_2$ |    $X_3$ |    $X_4$ |    $X_5$ |    $X_6$ |\n",
       "|:-----|---------:|---------:|---------:|---------:|---------:|---------:|\n",
       "| 熵值 | 0.994689 | 0.982948 | 0.998888 | 0.993618 | 0.970323 | 0.977141 |"
      ],
      "text/plain": [
       "<IPython.core.display.Markdown object>"
      ]
     },
     "metadata": {},
     "output_type": "display_data"
    },
    {
     "data": {
      "text/markdown": [
       "### 步骤4:计算区分度"
      ],
      "text/plain": [
       "<IPython.core.display.Markdown object>"
      ]
     },
     "metadata": {},
     "output_type": "display_data"
    },
    {
     "data": {
      "text/markdown": [
       "$F_j = 1 - E_j, \\quad j=1,2,\\cdots,n$"
      ],
      "text/plain": [
       "<IPython.core.display.Markdown object>"
      ]
     },
     "metadata": {},
     "output_type": "display_data"
    },
    {
     "name": "stdout",
     "output_type": "stream",
     "text": [
      "\n",
      "属性的区分度:\n"
     ]
    },
    {
     "data": {
      "text/markdown": [
       "|        |      $X_1$ |     $X_2$ |      $X_3$ |     $X_4$ |     $X_5$ |     $X_6$ |\n",
       "|:-------|-----------:|----------:|-----------:|----------:|----------:|----------:|\n",
       "| 区分度 | 0.00531107 | 0.0170518 | 0.00111241 | 0.0063823 | 0.0296773 | 0.0228588 |"
      ],
      "text/plain": [
       "<IPython.core.display.Markdown object>"
      ]
     },
     "metadata": {},
     "output_type": "display_data"
    },
    {
     "data": {
      "text/markdown": [
       "### 步骤5:计算权重"
      ],
      "text/plain": [
       "<IPython.core.display.Markdown object>"
      ]
     },
     "metadata": {},
     "output_type": "display_data"
    },
    {
     "data": {
      "text/markdown": [
       "$w_j = \\frac{F_j}{\\sum_{j=1}^{n} F_j}, \\quad j=1,2,\\cdots,n$"
      ],
      "text/plain": [
       "<IPython.core.display.Markdown object>"
      ]
     },
     "metadata": {},
     "output_type": "display_data"
    },
    {
     "name": "stdout",
     "output_type": "stream",
     "text": [
      "\n",
      "属性的权重:\n"
     ]
    },
    {
     "data": {
      "text/markdown": [
       "|      |     $X_1$ |    $X_2$ |     $X_3$ |     $X_4$ |    $X_5$ |    $X_6$ |\n",
       "|:-----|----------:|---------:|----------:|----------:|---------:|---------:|\n",
       "| 权重 | 0.0644598 | 0.206955 | 0.0135011 | 0.0774611 | 0.360189 | 0.277434 |"
      ],
      "text/plain": [
       "<IPython.core.display.Markdown object>"
      ]
     },
     "metadata": {},
     "output_type": "display_data"
    },
    {
     "data": {
      "text/markdown": [
       "### 步骤6:计算方案的综合得分"
      ],
      "text/plain": [
       "<IPython.core.display.Markdown object>"
      ]
     },
     "metadata": {},
     "output_type": "display_data"
    },
    {
     "data": {
      "text/markdown": [
       "$v_i = \\sum_{j=1}^{n} r_{ij} w_j, \\quad i=1,2,\\cdots,m$"
      ],
      "text/plain": [
       "<IPython.core.display.Markdown object>"
      ]
     },
     "metadata": {},
     "output_type": "display_data"
    },
    {
     "data": {
      "text/markdown": [
       "或者用矩阵乘法表示:"
      ],
      "text/plain": [
       "<IPython.core.display.Markdown object>"
      ]
     },
     "metadata": {},
     "output_type": "display_data"
    },
    {
     "data": {
      "text/markdown": [
       "$\\mathbf{v} = \\mathbf{R} \\mathbf{w}$"
      ],
      "text/plain": [
       "<IPython.core.display.Markdown object>"
      ]
     },
     "metadata": {},
     "output_type": "display_data"
    },
    {
     "name": "stdout",
     "output_type": "stream",
     "text": [
      "\n",
      "方案的综合得分:\n"
     ]
    },
    {
     "data": {
      "text/markdown": [
       "|       |     分数 |\n",
       "|:------|---------:|\n",
       "| $A_1$ | 0.262054 |\n",
       "| $A_2$ | 0.214987 |\n",
       "| $A_3$ | 0.29245  |\n",
       "| $A_4$ | 0.230508 |"
      ],
      "text/plain": [
       "<IPython.core.display.Markdown object>"
      ]
     },
     "metadata": {},
     "output_type": "display_data"
    }
   ],
   "source": [
    "import numpy as np\n",
    "import pandas as pd\n",
    "from IPython.display import display, Markdown\n",
    "\n",
    "# 原始决策矩阵\n",
    "D = np.array([[2.0, 1.5, 20, 5.5, 5, 9], \n",
    "              [2.5, 2.7, 18, 6.5, 3, 5],\n",
    "              [1.8, 2.0, 21, 4.5, 7, 7],\n",
    "              [2.2, 1.8, 20, 5.0, 5, 5]])\n",
    "\n",
    "print(\"原始决策矩阵:\")\n",
    "df_D = pd.DataFrame(D, index=[f'$A_{i}$' for i in range(1, 5)], columns=[f'$X_{j}$' for j in range(1, 7)])\n",
    "display(Markdown(df_D.to_markdown()))\n",
    "\n",
    "# 步骤1:转化为效益型决策矩阵\n",
    "\n",
    "display(Markdown(\"### 步骤1:转化为效益型决策矩阵\"))\n",
    "display(Markdown(\"对于成本型属性(如价格$X_4$),需要将其转化为效益型属性。转化公式为:\"))\n",
    "display(Markdown(\"$d'_{ij} = \\\\frac{1}{d_{ij}}, \\\\quad i=1,2,\\\\cdots,m$\"))\n",
    "\n",
    "D_prime = D.copy()\n",
    "D_prime[:, 3] = 1 / D[:, 3]  # 对第4列(价格X4)取倒数\n",
    "\n",
    "print(\"\\n效益型决策矩阵:\")\n",
    "df_D_prime = pd.DataFrame(D_prime, index=[f'$A_{i}$' for i in range(1, 5)], columns=[f'$X_{j}$' for j in range(1, 7)])\n",
    "display(Markdown(df_D_prime.to_markdown()))\n",
    "\n",
    "\n",
    "# 步骤2:归一化\n",
    "\n",
    "display(Markdown(\"### 步骤2:归一化\"))\n",
    "display(Markdown(\"归一化处理的公式为:\"))\n",
    "display(Markdown(\"$r_{ij} = \\\\frac{d'_{ij}}{\\\\sum_{i=1}^{m} d'_{ij}}, \\\\quad i=1,2,\\\\cdots,m; \\\\quad j=1,2,\\\\cdots,n$\"))\n",
    "\n",
    "R = D_prime / D_prime.sum(axis=0)\n",
    "\n",
    "print(\"\\n归一化矩阵:\")\n",
    "df_R = pd.DataFrame(R, index=[f'$A_{i}$' for i in range(1, 5)], columns=[f'$X_{j}$' for j in range(1, 7)])\n",
    "display(Markdown(df_R.to_markdown()))\n",
    "\n",
    "# 步骤3:计算熵值\n",
    "\n",
    "display(Markdown(\"### 步骤3:计算熵值\"))\n",
    "display(Markdown(\"$E_j = -\\\\frac{1}{\\\\ln m} \\\\sum_{i=1}^{m} r_{ij} \\\\ln r_{ij}, \\\\quad j=1,2,\\\\cdots,n$\"))\n",
    "\n",
    "m, n = R.shape\n",
    "E = -1 / np.log(m) * (R * np.log(R)).sum(axis=0)\n",
    "\n",
    "print(\"\\n属性的熵值:\")\n",
    "df_E = pd.DataFrame(E.reshape(1, -1), index=['熵值'], columns=[f'$X_{j}$' for j in range(1, 7)])\n",
    "display(Markdown(df_E.to_markdown()))\n",
    "\n",
    "# 步骤4:计算区分度\n",
    "\n",
    "display(Markdown(\"### 步骤4:计算区分度\"))\n",
    "display(Markdown(\"$F_j = 1 - E_j, \\\\quad j=1,2,\\\\cdots,n$\"))\n",
    "\n",
    "F = 1 - E\n",
    "\n",
    "print(\"\\n属性的区分度:\")\n",
    "df_F = pd.DataFrame(F.reshape(1, -1), index=['区分度'], columns=[f'$X_{j}$' for j in range(1, 7)])\n",
    "display(Markdown(df_F.to_markdown()))\n",
    "\n",
    "# 步骤5:计算权重\n",
    "\n",
    "display(Markdown(\"### 步骤5:计算权重\"))\n",
    "display(Markdown(\"$w_j = \\\\frac{F_j}{\\\\sum_{j=1}^{n} F_j}, \\\\quad j=1,2,\\\\cdots,n$\"))\n",
    "\n",
    "W = F / F.sum()\n",
    "\n",
    "print(\"\\n属性的权重:\")\n",
    "df_W = pd.DataFrame(W.reshape(1, -1), index=['权重'], columns=[f'$X_{j}$' for j in range(1, 7)])\n",
    "display(Markdown(df_W.to_markdown()))\n",
    "\n",
    "# 步骤6:计算方案的综合得分\n",
    "\n",
    "display(Markdown(\"### 步骤6:计算方案的综合得分\"))\n",
    "display(Markdown(\"$v_i = \\\\sum_{j=1}^{n} r_{ij} w_j, \\\\quad i=1,2,\\\\cdots,m$\"))\n",
    "display(Markdown(\"或者用矩阵乘法表示:\"))\n",
    "display(Markdown(\"$\\\\mathbf{v} = \\\\mathbf{R} \\\\mathbf{w}$\"))\n",
    "\n",
    "v = R.dot(W)\n",
    "\n",
    "print(\"\\n方案的综合得分:\")\n",
    "df_v = pd.DataFrame(v.reshape(-1, 1), index=[f'$A_{i}$' for i in range(1, 5)], columns=['分数'])\n",
    "display(Markdown(df_v.to_markdown()))"
   ]
  }
 ],
 "metadata": {
  "kernelspec": {
   "display_name": "base",
   "language": "python",
   "name": "python3"
  },
  "language_info": {
   "codemirror_mode": {
    "name": "ipython",
    "version": 3
   },
   "file_extension": ".py",
   "mimetype": "text/x-python",
   "name": "python",
   "nbconvert_exporter": "python",
   "pygments_lexer": "ipython3",
   "version": "3.10.10"
  }
 },
 "nbformat": 4,
 "nbformat_minor": 2
}
