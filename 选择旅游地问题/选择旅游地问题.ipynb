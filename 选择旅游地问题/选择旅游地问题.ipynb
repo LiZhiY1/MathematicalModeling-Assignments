{
 "cells": [
  {
   "cell_type": "code",
   "execution_count": 47,
   "metadata": {},
   "outputs": [],
   "source": [
    "import numpy as np\n",
    "from IPython.display import Markdown, display\n",
    "\n",
    "# 目标层的成对比较矩阵 A\n",
    "A = np.array([[1, 1/2, 4, 3, 3], \n",
    "              [2, 1, 7, 5, 5],\n",
    "              [1/4, 1/7, 1, 1/2, 1/3],\n",
    "              [1/3, 1/5, 2, 1, 1],\n",
    "              [1/3, 1/5, 3, 1, 1]])\n",
    "\n",
    "# 准则层的成对比较矩阵 B1, B2, B3, B4, B5\n",
    "B = [\n",
    "    np.array([[1, 2, 5], [1/2, 1, 2], [1/5, 1/2, 1]]),\n",
    "    np.array([[1, 1/3, 1/8], [3, 1, 1/3], [8, 3, 1]]),\n",
    "    np.array([[1, 1, 3], [1, 1, 3], [1/3, 1/3, 1]]),\n",
    "    np.array([[1, 3, 4], [1/3, 1, 1], [1/4, 1, 1]]),\n",
    "    np.array([[1, 1, 1/4], [1, 1, 1/4], [4, 4, 1]])\n",
    "]\n",
    "\n",
    "# 定义一个函数,用于计算成对比较矩阵的最大特征值和对应的特征向量\n",
    "def eigen_value_vector(matrix):\n",
    "    eigenvalues, eigenvectors = np.linalg.eig(matrix)\n",
    "    max_idx = np.argmax(eigenvalues)\n",
    "    max_eigenvalue = eigenvalues[max_idx].real\n",
    "    max_eigenvector = eigenvectors[:, max_idx].real\n",
    "    return max_eigenvalue, max_eigenvector\n"
   ]
  },
  {
   "cell_type": "code",
   "execution_count": 48,
   "metadata": {},
   "outputs": [
    {
     "data": {
      "text/markdown": [
       "## 步骤1:计算各个成对比较矩阵的特征向量"
      ],
      "text/plain": [
       "<IPython.core.display.Markdown object>"
      ]
     },
     "metadata": {},
     "output_type": "display_data"
    },
    {
     "data": {
      "text/markdown": [
       "|              | 最大特征向量                                 |\n",
       "|:-------------|:---------------------------------------------|\n",
       "| 目标层矩阵 A | [-0.4658, -0.8409, -0.0951, -0.1733, -0.192] |\n",
       "| 准则1矩阵    | [-0.8902, -0.4132, -0.1918]                  |\n",
       "| 准则2矩阵    | [-0.1128, -0.3255, -0.9388]                  |\n",
       "| 准则3矩阵    | [0.6882, 0.6882, 0.2294]                     |\n",
       "| 准则4矩阵    | [0.9255, 0.2803, 0.2547]                     |\n",
       "| 准则5矩阵    | [0.2357, 0.2357, 0.9428]                     |"
      ],
      "text/plain": [
       "<IPython.core.display.Markdown object>"
      ]
     },
     "metadata": {},
     "output_type": "display_data"
    }
   ],
   "source": [
    "display(Markdown(\"## 步骤1:计算各个成对比较矩阵的特征向量\"))\n",
    "\n",
    "# 计算目标层成对比较矩阵的最大特征值和对应的特征向量\n",
    "max_eigenvalue_A, max_eigenvector_A = eigen_value_vector(A)\n",
    "\n",
    "# 计算准则层成对比较矩阵的最大特征值和对应的特征向量\n",
    "max_eigenvector_list = []\n",
    "for i, matrix in enumerate(B, start=1):\n",
    "    max_eigenvalue, max_eigenvector = eigen_value_vector(matrix)\n",
    "    max_eigenvector_list.append(max_eigenvector)\n",
    "\n",
    "# 使用 Pandas DataFrame 显示最大特征向量结果\n",
    "max_eigenvector_df = pd.DataFrame({\n",
    "    '最大特征向量': [np.round(max_eigenvector_A, 4).tolist()] + [np.round(max_eigenvector, 4).tolist() for max_eigenvector in max_eigenvector_list]\n",
    "}, index=['目标层矩阵 A'] + [f'准则{i}矩阵' for i in range(1, len(B)+1)])\n",
    "\n",
    "display(Markdown(max_eigenvector_df.to_markdown()))"
   ]
  },
  {
   "cell_type": "code",
   "execution_count": 49,
   "metadata": {},
   "outputs": [
    {
     "data": {
      "text/markdown": [
       "## 步骤2:进行一致性检验"
      ],
      "text/plain": [
       "<IPython.core.display.Markdown object>"
      ]
     },
     "metadata": {},
     "output_type": "display_data"
    },
    {
     "data": {
      "text/markdown": [
       "一致性指标 $CI$ 的计算公式:"
      ],
      "text/plain": [
       "<IPython.core.display.Markdown object>"
      ]
     },
     "metadata": {},
     "output_type": "display_data"
    },
    {
     "data": {
      "text/markdown": [
       "$CI = \\frac{\\lambda_{\\max} - n}{n - 1}$"
      ],
      "text/plain": [
       "<IPython.core.display.Markdown object>"
      ]
     },
     "metadata": {},
     "output_type": "display_data"
    },
    {
     "data": {
      "text/markdown": [
       "一致性比率 $CR$ 的计算公式:"
      ],
      "text/plain": [
       "<IPython.core.display.Markdown object>"
      ]
     },
     "metadata": {},
     "output_type": "display_data"
    },
    {
     "data": {
      "text/markdown": [
       "$CR = \\frac{CI}{RI}$"
      ],
      "text/plain": [
       "<IPython.core.display.Markdown object>"
      ]
     },
     "metadata": {},
     "output_type": "display_data"
    },
    {
     "data": {
      "text/markdown": [
       "当 $CR < 0.1$ 时,判断通过一致性检验。"
      ],
      "text/plain": [
       "<IPython.core.display.Markdown object>"
      ]
     },
     "metadata": {},
     "output_type": "display_data"
    },
    {
     "data": {
      "text/markdown": [
       "|              |   一致性指标 CI |   一致性比率 CR | 是否通过一致性检验   |\n",
       "|:-------------|----------------:|----------------:|:---------------------|\n",
       "| 目标层矩阵 A |          0.018  |          0.0161 | 是                   |\n",
       "| 准则1矩阵    |          0.0028 |          0.0048 | 是                   |\n",
       "| 准则2矩阵    |          0.0008 |          0.0013 | 是                   |\n",
       "| 准则3矩阵    |         -0      |         -0      | 是                   |\n",
       "| 准则4矩阵    |          0.0046 |          0.0079 | 是                   |\n",
       "| 准则5矩阵    |          0      |          0      | 是                   |"
      ],
      "text/plain": [
       "<IPython.core.display.Markdown object>"
      ]
     },
     "metadata": {},
     "output_type": "display_data"
    }
   ],
   "source": [
    "display(Markdown(\"## 步骤2:进行一致性检验\"))\n",
    "\n",
    "display(Markdown(\"一致性指标 $CI$ 的计算公式:\"))\n",
    "display(Markdown(\"$CI = \\\\frac{\\\\lambda_{\\\\max} - n}{n - 1}$\"))\n",
    "\n",
    "display(Markdown(\"一致性比率 $CR$ 的计算公式:\"))\n",
    "display(Markdown(\"$CR = \\\\frac{CI}{RI}$\"))\n",
    "\n",
    "display(Markdown(\"当 $CR < 0.1$ 时,判断通过一致性检验。\"))\n",
    "\n",
    "# Saaty给出的随机一致性指标 RI\n",
    "RI = [0, 0, 0.58, 0.90, 1.12, 1.24, 1.32, 1.41, 1.45, 1.49]\n",
    "\n",
    "# 检验目标层矩阵 A 的一致性\n",
    "n = A.shape[0]\n",
    "CI_A = (max_eigenvalue_A - n) / (n - 1)\n",
    "CR_A = CI_A / RI[n-1]\n",
    "\n",
    "# 检验准则层矩阵 B1, B2, B3, B4, B5 的一致性\n",
    "CI_list = []\n",
    "CR_list = []\n",
    "consistency_list = []\n",
    "for i, matrix in enumerate(B, start=1):\n",
    "    max_eigenvalue, _ = eigen_value_vector(matrix)\n",
    "    n = matrix.shape[0]\n",
    "    CI = (max_eigenvalue - n) / (n - 1)\n",
    "    CR = CI / RI[n-1]\n",
    "    CI_list.append(CI)\n",
    "    CR_list.append(CR)\n",
    "    consistency_list.append('是' if CR < 0.1 else '否')\n",
    "\n",
    "# 使用 Pandas DataFrame 显示一致性检验结果\n",
    "consistency_df = pd.DataFrame({\n",
    "    '一致性指标 CI': [np.round(CI_A, 4)] + [np.round(CI, 4) for CI in CI_list],\n",
    "    '一致性比率 CR': [np.round(CR_A, 4)] + [np.round(CR, 4) for CR in CR_list],\n",
    "    '是否通过一致性检验': ['是' if CR_A < 0.1 else '否'] + consistency_list\n",
    "}, index=['目标层矩阵 A'] + [f'准则{i}矩阵' for i in range(1, len(B)+1)])\n",
    "\n",
    "display(Markdown(consistency_df.to_markdown()))"
   ]
  },
  {
   "cell_type": "code",
   "execution_count": 50,
   "metadata": {},
   "outputs": [
    {
     "data": {
      "text/markdown": [
       "## 步骤3:确定权向量"
      ],
      "text/plain": [
       "<IPython.core.display.Markdown object>"
      ]
     },
     "metadata": {},
     "output_type": "display_data"
    },
    {
     "data": {
      "text/markdown": [
       "|              | 权向量                                   |\n",
       "|:-------------|:-----------------------------------------|\n",
       "| 目标层矩阵 A | [0.2636, 0.4758, 0.0538, 0.0981, 0.1087] |\n",
       "| 准则1矩阵    | [0.5954, 0.2764, 0.1283]                 |\n",
       "| 准则2矩阵    | [0.0819, 0.2363, 0.6817]                 |\n",
       "| 准则3矩阵    | [0.4286, 0.4286, 0.1429]                 |\n",
       "| 准则4矩阵    | [0.6337, 0.1919, 0.1744]                 |\n",
       "| 准则5矩阵    | [0.1667, 0.1667, 0.6667]                 |"
      ],
      "text/plain": [
       "<IPython.core.display.Markdown object>"
      ]
     },
     "metadata": {},
     "output_type": "display_data"
    }
   ],
   "source": [
    "display(Markdown('## 步骤3:确定权向量'))\n",
    "\n",
    "# 确定目标层矩阵 A 的权向量\n",
    "W_A = max_eigenvector_A / np.sum(max_eigenvector_A)\n",
    "\n",
    "# 确定准则层矩阵 B1, B2, B3, B4, B5 的权向量\n",
    "W_list = []\n",
    "for i, matrix in enumerate(B, start=1):\n",
    "    _, max_eigenvector = eigen_value_vector(matrix)\n",
    "    W = max_eigenvector / np.sum(max_eigenvector)\n",
    "    W_list.append(W)\n",
    "\n",
    "# 使用 Pandas DataFrame 显示权向量结果\n",
    "weights_df = pd.DataFrame({\n",
    "    '权向量': [np.round(W_A, 4).tolist()] + [np.round(W, 4).tolist() for W in W_list]\n",
    "}, index=['目标层矩阵 A'] + [f'准则{i}矩阵' for i in range(1, len(B)+1)])\n",
    "\n",
    "display(Markdown(weights_df.to_markdown()))"
   ]
  },
  {
   "cell_type": "code",
   "execution_count": 51,
   "metadata": {},
   "outputs": [
    {
     "data": {
      "text/markdown": [
       "## 步骤4:计算方案对目标的综合权重"
      ],
      "text/plain": [
       "<IPython.core.display.Markdown object>"
      ]
     },
     "metadata": {},
     "output_type": "display_data"
    },
    {
     "data": {
      "text/markdown": [
       "令 $\\boldsymbol{W}_B = (\\boldsymbol{w}_{B1}, \\boldsymbol{w}_{B2}, \\boldsymbol{w}_{B3}, \\boldsymbol{w}_{B4}, \\boldsymbol{w}_{B5})$,"
      ],
      "text/plain": [
       "<IPython.core.display.Markdown object>"
      ]
     },
     "metadata": {},
     "output_type": "display_data"
    },
    {
     "data": {
      "text/markdown": [
       "则方案对目标的综合权重为:"
      ],
      "text/plain": [
       "<IPython.core.display.Markdown object>"
      ]
     },
     "metadata": {},
     "output_type": "display_data"
    },
    {
     "data": {
      "text/markdown": [
       "$\\boldsymbol{W}_P = \\boldsymbol{W}_B^T \\cdot \\boldsymbol{w}_A$"
      ],
      "text/plain": [
       "<IPython.core.display.Markdown object>"
      ]
     },
     "metadata": {},
     "output_type": "display_data"
    },
    {
     "data": {
      "text/markdown": [
       "|          |    方案1 |    方案2 |    方案3 |\n",
       "|:---------|---------:|---------:|---------:|\n",
       "| 综合权重 | 0.299255 | 0.245304 | 0.455441 |"
      ],
      "text/plain": [
       "<IPython.core.display.Markdown object>"
      ]
     },
     "metadata": {},
     "output_type": "display_data"
    },
    {
     "data": {
      "text/markdown": [
       "综上所述,根据层次分析法,应该选择方案3作为最终的目的地。"
      ],
      "text/plain": [
       "<IPython.core.display.Markdown object>"
      ]
     },
     "metadata": {},
     "output_type": "display_data"
    }
   ],
   "source": [
    "display(Markdown('## 步骤4:计算方案对目标的综合权重'))\n",
    "\n",
    "# 计算方案对目标的综合权重\n",
    "W_B = np.array([W.tolist() for W in W_list])\n",
    "W_P = W_B.T.dot(W_A)\n",
    "\n",
    "display(Markdown('令 $\\\\boldsymbol{W}_B = (\\\\boldsymbol{w}_{B1}, \\\\boldsymbol{w}_{B2}, \\\\boldsymbol{w}_{B3}, \\\\boldsymbol{w}_{B4}, \\\\boldsymbol{w}_{B5})$,'))\n",
    "display(Markdown('则方案对目标的综合权重为:'))\n",
    "display(Markdown('$\\\\boldsymbol{W}_P = \\\\boldsymbol{W}_B^T \\\\cdot \\\\boldsymbol{w}_A$'))\n",
    "\n",
    "# 使用 Pandas DataFrame 显示综合权重结果\n",
    "weights_P_df = pd.DataFrame(W_P.reshape(1, -1), \n",
    "                            index=['综合权重'],\n",
    "                            columns=[f'方案{i}' for i in range(1, len(W_P)+1)])\n",
    "\n",
    "display(Markdown(weights_P_df.to_markdown()))\n",
    "\n",
    "# 确定最终选择的目的地\n",
    "best_plan = np.argmax(W_P) + 1\n",
    "display(Markdown(f'综上所述,根据层次分析法,应该选择方案{best_plan}作为最终的目的地。'))"
   ]
  }
 ],
 "metadata": {
  "kernelspec": {
   "display_name": "base",
   "language": "python",
   "name": "python3"
  },
  "language_info": {
   "codemirror_mode": {
    "name": "ipython",
    "version": 3
   },
   "file_extension": ".py",
   "mimetype": "text/x-python",
   "name": "python",
   "nbconvert_exporter": "python",
   "pygments_lexer": "ipython3",
   "version": "3.10.10"
  }
 },
 "nbformat": 4,
 "nbformat_minor": 2
}
